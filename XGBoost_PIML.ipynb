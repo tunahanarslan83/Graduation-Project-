{
  "cells": [
    {
      "cell_type": "code",
      "execution_count": null,
      "metadata": {
        "colab": {
          "base_uri": "https://localhost:8080/"
        },
        "id": "uu8wT-EpY5br",
        "outputId": "e6d9d705-829e-4e91-f906-2a579280cce6"
      },
      "outputs": [
        {
          "name": "stdout",
          "output_type": "stream",
          "text": [
            "Model Performans Karşılaştırması:\n",
            "      Model        R²       RMSE        MAE   MAPE (%)\n",
            "0  Non-PIML  0.132287  51.177903  43.233360  48.658147\n",
            "1      PIML  0.109808  51.836577  44.060375  47.820175\n"
          ]
        }
      ],
      "source": [
        "\n",
        "import pandas as pd\n",
        "import numpy as np\n",
        "from xgboost import XGBRegressor\n",
        "from sklearn.model_selection import train_test_split\n",
        "from sklearn.metrics import r2_score, mean_squared_error, mean_absolute_error, mean_absolute_percentage_error\n",
        "\n",
        "\n",
        "df = pd.read_excel(\"ML_ Data.xlsx\", sheet_name=\"Sheet1\")\n",
        "df_clean = df.dropna()\n",
        "\n",
        "\n",
        "df_clean = df_clean.rename(columns={\n",
        "    \"Feed (mm/rev)\": \"Feed\",\n",
        "    \"Depth of cut [µm]\": \"Depth_of_cut\",\n",
        "    \"h (Average)\": \"h\",\n",
        "    \"T_Model\": \"T_Analytical\"\n",
        "})\n",
        "\n",
        "\n",
        "y = df_clean[\"T_Exp\"]\n",
        "\n",
        "# ------------------ NON-PIML MODEL ------------------\n",
        "X_non_piml = df_clean[[\"Feed\", \"Depth_of_cut\", \"Fx\", \"Fy\"]]\n",
        "X_train_non, X_test_non, y_train, y_test = train_test_split(X_non_piml, y, test_size=0.2, random_state=42)\n",
        "\n",
        "xgb_non = XGBRegressor(random_state=42)\n",
        "xgb_non.fit(X_train_non, y_train)\n",
        "y_pred_non = xgb_non.predict(X_test_non)\n",
        "\n",
        "\n",
        "r2_non = r2_score(y_test, y_pred_non)\n",
        "rmse_non = np.sqrt(mean_squared_error(y_test, y_pred_non))  \n",
        "mae_non = mean_absolute_error(y_test, y_pred_non)\n",
        "mape_non = mean_absolute_percentage_error(y_test, y_pred_non) * 100\n",
        "\n",
        "# ------------------ PIML MODEL ------------------\n",
        "X_piml = df_clean[[\"Feed\", \"Depth_of_cut\", \"Fx\", \"Fy\", \"T_Analytical\"]]  # remove h\n",
        "X_train_piml, X_test_piml, _, _ = train_test_split(X_piml, y, test_size=0.2, random_state=42)\n",
        "\n",
        "xgb_piml = XGBRegressor(random_state=42)\n",
        "xgb_piml.fit(X_train_piml, y_train)\n",
        "y_pred_piml = xgb_piml.predict(X_test_piml)\n",
        "\n",
        "\n",
        "r2_piml = r2_score(y_test, y_pred_piml)\n",
        "rmse_piml = np.sqrt(mean_squared_error(y_test, y_pred_piml))\n",
        "mae_piml = mean_absolute_error(y_test, y_pred_piml)\n",
        "mape_piml = mean_absolute_percentage_error(y_test, y_pred_piml) * 100\n",
        "\n",
        "\n",
        "results = pd.DataFrame({\n",
        "    \"Model\": [\"Non-PIML\", \"PIML\"],\n",
        "    \"R²\": [r2_non, r2_piml],\n",
        "    \"RMSE\": [rmse_non, rmse_piml],\n",
        "    \"MAE\": [mae_non, mae_piml],\n",
        "    \"MAPE (%)\": [mape_non, mape_piml]\n",
        "})\n",
        "\n",
        "print(\"Model Performans Karşılaştırması:\")\n",
        "print(results)\n",
        "\n",
        "\n",
        "results_non = pd.DataFrame({\"True\": y_test.values, \"Predicted (Non-PIML)\": y_pred_non})\n",
        "results_piml = pd.DataFrame({\"True\": y_test.values, \"Predicted (PIML)\": y_pred_piml})\n",
        "\n",
        "\n",
        "# results_non.to_excel(\"XGBoost_Non_PIML_Output.xlsx\", index=False)\n",
        "# results_piml.to_excel(\"XGBoost_PIML_Output.xlsx\", index=False)\n",
        "# results.to_excel(\"XGBoost_Performance_Comparison.xlsx\", index=False)\n"
      ]
    }
  ],
  "metadata": {
    "colab": {
      "provenance": []
    },
    "kernelspec": {
      "display_name": "Python 3",
      "name": "python3"
    },
    "language_info": {
      "name": "python"
    }
  },
  "nbformat": 4,
  "nbformat_minor": 0
}
