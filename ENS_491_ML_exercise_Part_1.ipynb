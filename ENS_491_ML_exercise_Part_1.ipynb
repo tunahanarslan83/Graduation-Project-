{
  "nbformat": 4,
  "nbformat_minor": 0,
  "metadata": {
    "colab": {
      "provenance": []
    },
    "kernelspec": {
      "name": "python3",
      "display_name": "Python 3"
    },
    "language_info": {
      "name": "python"
    }
  },
  "cells": [
    {
      "cell_type": "code",
      "execution_count": null,
      "metadata": {
        "id": "3mUjZ-0SYZ07",
        "colab": {
          "base_uri": "https://localhost:8080/"
        },
        "outputId": "b5cc0203-d848-4e11-ead0-51aacc1c2fed"
      },
      "outputs": [
        {
          "output_type": "stream",
          "name": "stdout",
          "text": [
            "Drive already mounted at /content/drive; to attempt to forcibly remount, call drive.mount(\"/content/drive\", force_remount=True).\n"
          ]
        }
      ],
      "source": [
        "from google.colab import drive\n",
        "drive.mount('/content/drive')"
      ]
    },
    {
      "cell_type": "code",
      "source": [
        "import pandas as pd"
      ],
      "metadata": {
        "id": "cjl_5TlqZLad"
      },
      "execution_count": null,
      "outputs": []
    },
    {
      "cell_type": "code",
      "source": [
        "\n",
        "file_path = '/content/drive/MyDrive/ENS_491_P1.xlsx'\n",
        "\n",
        "\n",
        "xls = pd.ExcelFile(file_path)\n",
        "\n",
        "\n",
        "print(xls.sheet_names)\n",
        "\n",
        "\n",
        "df = pd.read_excel(file_path, sheet_name=xls.sheet_names[0])\n",
        "print(df.head())\n"
      ],
      "metadata": {
        "colab": {
          "base_uri": "https://localhost:8080/"
        },
        "id": "ol_cQzkFZN_t",
        "outputId": "2a0320bc-0841-4195-a5c9-2f0a930ce20b"
      },
      "execution_count": null,
      "outputs": [
        {
          "output_type": "stream",
          "name": "stdout",
          "text": [
            "['Sheet1']\n",
            "     X1  X2  X3     Y1\n",
            "0  0.01  10   25   193\n",
            "1  0.01  10   50   380\n",
            "2  0.01  10  100  1120\n",
            "3  0.01  30   25   223\n",
            "4  0.01  30   50   410\n"
          ]
        }
      ]
    },
    {
      "cell_type": "code",
      "source": [
        "\n",
        "print(df.info())\n",
        "\n",
        "\n",
        "print(df.isnull().sum())\n",
        "\n",
        "\n",
        "df = df.dropna()\n",
        "\n",
        "\n",
        "\n",
        "print(df.describe())\n"
      ],
      "metadata": {
        "colab": {
          "base_uri": "https://localhost:8080/"
        },
        "id": "CB9WPJlAZu0X",
        "outputId": "5d9538da-ed42-4a74-f697-26b0e07d7b69"
      },
      "execution_count": null,
      "outputs": [
        {
          "output_type": "stream",
          "name": "stdout",
          "text": [
            "<class 'pandas.core.frame.DataFrame'>\n",
            "RangeIndex: 45 entries, 0 to 44\n",
            "Data columns (total 4 columns):\n",
            " #   Column  Non-Null Count  Dtype  \n",
            "---  ------  --------------  -----  \n",
            " 0   X1      45 non-null     float64\n",
            " 1   X2      45 non-null     int64  \n",
            " 2   X3      45 non-null     int64  \n",
            " 3   Y1      45 non-null     int64  \n",
            "dtypes: float64(1), int64(3)\n",
            "memory usage: 1.5 KB\n",
            "None\n",
            "X1     0\n",
            "X2     0\n",
            "X3     0\n",
            "Y1     0\n",
            "dtype: int64\n",
            "              X1         X2         X3            Y1\n",
            "count  45.000000  45.000000   45.000000    45.000000\n",
            "mean    0.050000  30.000000   58.333333   600.711111\n",
            "std     0.028604  16.514456   31.532811   410.605242\n",
            "min     0.010000  10.000000   25.000000   183.000000\n",
            "25%     0.030000  10.000000   25.000000   263.000000\n",
            "50%     0.050000  30.000000   50.000000   410.000000\n",
            "75%     0.070000  50.000000  100.000000  1120.000000\n",
            "max     0.090000  50.000000  100.000000  1211.000000\n"
          ]
        }
      ]
    },
    {
      "cell_type": "code",
      "source": [
        "from sklearn.preprocessing import MinMaxScaler\n",
        "\n",
        "\n",
        "X = df.iloc[:, :-1]\n",
        "y = df.iloc[:, -1]\n",
        "\n",
        "\n",
        "scaler = MinMaxScaler()\n",
        "X_scaled = scaler.fit_transform(X)\n",
        "\n",
        "\n",
        "print(X_scaled[:5])\n"
      ],
      "metadata": {
        "colab": {
          "base_uri": "https://localhost:8080/"
        },
        "id": "EJpGW9IvZ6t2",
        "outputId": "361eb2a0-e3d9-4777-eedd-e53e2dc78e63"
      },
      "execution_count": null,
      "outputs": [
        {
          "output_type": "stream",
          "name": "stdout",
          "text": [
            "[[0.         0.         0.        ]\n",
            " [0.         0.         0.33333333]\n",
            " [0.         0.         1.        ]\n",
            " [0.         0.5        0.        ]\n",
            " [0.         0.5        0.33333333]]\n"
          ]
        }
      ]
    },
    {
      "cell_type": "code",
      "source": [
        "from sklearn.model_selection import train_test_split\n",
        "\n",
        "\n",
        "X_train, X_test, y_train, y_test = train_test_split(X_scaled, y, test_size=0.15, random_state=42)\n",
        "\n",
        "print(f\"Training set size: {X_train.shape}\")\n",
        "print(f\"Test set size: {X_test.shape}\")\n"
      ],
      "metadata": {
        "colab": {
          "base_uri": "https://localhost:8080/"
        },
        "id": "vRtPPEcjaA77",
        "outputId": "f8b7db1a-59cd-4cd6-e3c3-0e6ae7b8e4cb"
      },
      "execution_count": null,
      "outputs": [
        {
          "output_type": "stream",
          "name": "stdout",
          "text": [
            "Training set size: (38, 3)\n",
            "Test set size: (7, 3)\n"
          ]
        }
      ]
    },
    {
      "cell_type": "markdown",
      "source": [
        "##Random Forest Trainig"
      ],
      "metadata": {
        "id": "RWCIYN6gbDy-"
      }
    },
    {
      "cell_type": "code",
      "source": [
        "from sklearn.ensemble import RandomForestRegressor\n",
        "\n",
        "\n",
        "rf_model = RandomForestRegressor(n_estimators=100, random_state=42)\n",
        "rf_model.fit(X_train, y_train)\n",
        "\n",
        "print(\"Random Forest model trained.\")\n"
      ],
      "metadata": {
        "colab": {
          "base_uri": "https://localhost:8080/"
        },
        "id": "jbD2QVIqalgx",
        "outputId": "43d19a4d-f586-464d-d4d4-6d7e988f7ee8"
      },
      "execution_count": null,
      "outputs": [
        {
          "output_type": "stream",
          "name": "stdout",
          "text": [
            "Random Forest model trained.\n"
          ]
        }
      ]
    },
    {
      "cell_type": "code",
      "source": [
        "from sklearn.metrics import r2_score, mean_absolute_error, mean_squared_error\n",
        "\n",
        "\n",
        "y_train_pred = rf_model.predict(X_train)\n",
        "y_test_pred = rf_model.predict(X_test)\n",
        "\n",
        "\n",
        "r2_train = r2_score(y_train, y_train_pred)\n",
        "r2_test = r2_score(y_test, y_test_pred)\n",
        "ame_rf = mean_absolute_error(y_test, y_test_pred)\n",
        "rmse_rf = mean_squared_error(y_test, y_test_pred, squared=False)\n",
        "\n",
        "print(f\"Random Forest - R² (Train): {r2_train:.2f}, R² (Test): {r2_test:.2f}\")\n",
        "print(f\"AME: {ame_rf:.2f}, RMSE: {rmse_rf:.2f}\")\n"
      ],
      "metadata": {
        "colab": {
          "base_uri": "https://localhost:8080/"
        },
        "id": "YF4QQBm0bcnt",
        "outputId": "7bf9a8e8-2dfe-409f-c8c9-7fbe638a5efa"
      },
      "execution_count": null,
      "outputs": [
        {
          "output_type": "stream",
          "name": "stdout",
          "text": [
            "Random Forest - R² (Train): 1.00, R² (Test): 1.00\n",
            "AME: 15.08, RMSE: 20.12\n"
          ]
        },
        {
          "output_type": "stream",
          "name": "stderr",
          "text": [
            "/usr/local/lib/python3.10/dist-packages/sklearn/metrics/_regression.py:492: FutureWarning: 'squared' is deprecated in version 1.4 and will be removed in 1.6. To calculate the root mean squared error, use the function'root_mean_squared_error'.\n",
            "  warnings.warn(\n"
          ]
        }
      ]
    },
    {
      "cell_type": "markdown",
      "source": [
        "##LSBoost (Gradient Boosting) Trainig\n"
      ],
      "metadata": {
        "id": "ijgXpsQ6bnPH"
      }
    },
    {
      "cell_type": "code",
      "source": [
        "from sklearn.ensemble import GradientBoostingRegressor\n",
        "\n",
        "\n",
        "ls_model = GradientBoostingRegressor(n_estimators=100, random_state=42)\n",
        "ls_model.fit(X_train, y_train)\n",
        "\n",
        "print(\"LSBoost model trained.\")\n"
      ],
      "metadata": {
        "colab": {
          "base_uri": "https://localhost:8080/"
        },
        "id": "R5PSONQrbnCZ",
        "outputId": "70ca76e3-5f93-42ba-9103-3813a0197352"
      },
      "execution_count": null,
      "outputs": [
        {
          "output_type": "stream",
          "name": "stdout",
          "text": [
            "LSBoost model trained.\n"
          ]
        }
      ]
    },
    {
      "cell_type": "code",
      "source": [
        "\n",
        "y_train_pred_ls = ls_model.predict(X_train)\n",
        "y_test_pred_ls = ls_model.predict(X_test)\n",
        "\n",
        "\n",
        "r2_train_ls = r2_score(y_train, y_train_pred_ls)\n",
        "r2_test_ls = r2_score(y_test, y_test_pred_ls)\n",
        "ame_ls = mean_absolute_error(y_test, y_test_pred_ls)\n",
        "rmse_ls = mean_squared_error(y_test, y_test_pred_ls, squared=False)\n",
        "\n",
        "print(f\"LSBoost - R² (Train): {r2_train_ls:.2f}, R² (Test): {r2_test_ls:.2f}\")\n",
        "print(f\"AME: {ame_ls:.2f}, RMSE: {rmse_ls:.2f}\")\n"
      ],
      "metadata": {
        "colab": {
          "base_uri": "https://localhost:8080/"
        },
        "id": "QqOpB70Zbx5q",
        "outputId": "2ff59f3d-1005-4874-c42e-a94a75338d65"
      },
      "execution_count": null,
      "outputs": [
        {
          "output_type": "stream",
          "name": "stdout",
          "text": [
            "LSBoost - R² (Train): 1.00, R² (Test): 1.00\n",
            "AME: 12.70, RMSE: 17.49\n"
          ]
        },
        {
          "output_type": "stream",
          "name": "stderr",
          "text": [
            "/usr/local/lib/python3.10/dist-packages/sklearn/metrics/_regression.py:492: FutureWarning: 'squared' is deprecated in version 1.4 and will be removed in 1.6. To calculate the root mean squared error, use the function'root_mean_squared_error'.\n",
            "  warnings.warn(\n"
          ]
        }
      ]
    },
    {
      "cell_type": "code",
      "source": [
        "import matplotlib.pyplot as plt\n",
        "\n",
        "\n",
        "plt.figure(figsize=(12, 5))\n",
        "\n",
        "plt.subplot(1, 2, 1)\n",
        "plt.scatter(y_train, y_train_pred, label='Train', color='blue')\n",
        "plt.plot([y_train.min(), y_train.max()], [y_train.min(), y_train.max()], 'r--')\n",
        "plt.xlabel('Real Values')\n",
        "plt.ylabel('Predictions')\n",
        "plt.title('Random Forest - Train Data')\n",
        "\n",
        "plt.subplot(1, 2, 2)\n",
        "plt.scatter(y_test, y_test_pred, label='Test', color='green')\n",
        "plt.plot([y_test.min(), y_test.max()], [y_test.min(), y_test.max()], 'r--')\n",
        "plt.xlabel('Real Values')\n",
        "plt.ylabel('Predictions')\n",
        "plt.title('Random Forest - Test Data')\n",
        "\n",
        "plt.tight_layout()\n",
        "plt.show()\n"
      ],
      "metadata": {
        "colab": {
          "base_uri": "https://localhost:8080/",
          "height": 488
        },
        "id": "ju2BY0Mlb3Ca",
        "outputId": "dae86c60-6841-420a-bda2-f28b0a4adde2"
      },
      "execution_count": null,
      "outputs": [
        {
          "output_type": "display_data",
          "data": {
            "text/plain": [
              "<Figure size 1200x500 with 2 Axes>"
            ],
            "image/png": "[encoded data removed]"
          },
          "metadata": {}
        }
      ]
    },
    {
      "cell_type": "code",
      "source": [
        "\n",
        "residuals_ls = y_test - y_test_pred_ls\n",
        "plt.scatter(y_test, residuals_ls, color='purple')\n",
        "plt.axhline(0, color='red', linestyle='--')\n",
        "plt.xlabel('Real Values')\n",
        "plt.ylabel('Error')\n",
        "plt.title('LSBoost - Residual Plot')\n",
        "plt.show()\n"
      ],
      "metadata": {
        "colab": {
          "base_uri": "https://localhost:8080/",
          "height": 472
        },
        "id": "Tv3-VcbIcgrt",
        "outputId": "a3168b03-7dee-4620-9077-943c4bc6dd14"
      },
      "execution_count": null,
      "outputs": [
        {
          "output_type": "display_data",
          "data": {
            "text/plain": [
              "<Figure size 640x480 with 1 Axes>"
            ],
            "image/png": "[encoded data removed]"
          },
          "metadata": {}
        }
      ]
    },
    {
      "cell_type": "code",
      "source": [
        "\n",
        "data = {\n",
        "    'Model': ['Random Forest', 'LSBoost'],\n",
        "    'R² (Train)': [r2_train, r2_train_ls],\n",
        "    'R² (Test)': [r2_test, r2_test_ls],\n",
        "    'AME': [ame_rf, ame_ls],\n",
        "    'RMSE': [rmse_rf, rmse_ls]\n",
        "}\n",
        "\n",
        "df_results = pd.DataFrame(data)\n",
        "print(df_results)\n"
      ],
      "metadata": {
        "colab": {
          "base_uri": "https://localhost:8080/"
        },
        "id": "guCf_gFNcqys",
        "outputId": "c734818f-0a37-4f70-ed24-c9afde902188"
      },
      "execution_count": null,
      "outputs": [
        {
          "output_type": "stream",
          "name": "stdout",
          "text": [
            "           Model  R² (Train)  R² (Test)        AME       RMSE\n",
            "0  Random Forest    0.999636   0.997592  15.078571  20.121620\n",
            "1        LSBoost    0.999569   0.998180  12.703682  17.494185\n"
          ]
        }
      ]
    },
    {
      "cell_type": "markdown",
      "source": [
        "LSBoost modeli, test verisinde daha yüksek doğruluk ve daha düşük hatalar gösterdiği için daha iyi bir model olarak değerlendirilebilir.\n",
        "Ayrıca LSBoost, hem eğitim hem de test verilerinde tutarlı bir performans sergileyerek overfitting'den kaçınmış gibi görünüyor."
      ],
      "metadata": {
        "id": "MeBmzNBGc4fk"
      }
    }
  ]
}