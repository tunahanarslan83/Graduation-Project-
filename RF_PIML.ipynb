{
  "cells": [
    {
      "cell_type": "code",
      "execution_count": null,
      "metadata": {
        "colab": {
          "base_uri": "https://localhost:8080/"
        },
        "id": "zWeRND7yX7IP",
        "outputId": "02fd857d-05b0-41c0-88d1-a96007c56d52"
      },
      "outputs": [
        {
          "name": "stdout",
          "output_type": "stream",
          "text": [
            "      Model        R²         RMSE       MAE   MAPE (%)\n",
            "0  Non-PIML  0.230812  2321.781075  43.11500  51.267121\n",
            "1      PIML  0.454035  1647.986288  36.22875  42.466682\n"
          ]
        }
      ],
      "source": [
        "\n",
        "import pandas as pd\n",
        "from sklearn.model_selection import train_test_split\n",
        "from sklearn.ensemble import RandomForestRegressor\n",
        "from sklearn.metrics import r2_score, mean_squared_error, mean_absolute_error, mean_absolute_percentage_error\n",
        "\n",
        "\n",
        "df = pd.read_excel(\"ML_ Data.xlsx\", sheet_name=\"Sheet1\")\n",
        "df_clean = df.dropna()  \n",
        "y = df_clean[\"T_Exp\"]   \n",
        "\n",
        "#  ------------------ NON-PIML MODEL ------------------\n",
        "X_non_piml = df_clean[[\"Feed (mm/rev)\", \"Depth of cut [µm]\", \"Fx\", \"Fy\"]]\n",
        "X_train_non, X_test_non, y_train, y_test = train_test_split(X_non_piml, y, test_size=0.2, random_state=42)\n",
        "\n",
        "rf_non = RandomForestRegressor(random_state=42)\n",
        "rf_non.fit(X_train_non, y_train)\n",
        "y_pred_non = rf_non.predict(X_test_non)\n",
        "\n",
        "\n",
        "r2_non = r2_score(y_test, y_pred_non)\n",
        "rmse_non = mean_squared_error(y_test, y_pred_non)\n",
        "mae_non = mean_absolute_error(y_test, y_pred_non)\n",
        "mape_non = mean_absolute_percentage_error(y_test, y_pred_non) * 100\n",
        "\n",
        "#  ------------------ PIML MODEL ------------------\n",
        "X_piml = df_clean[[\"Feed (mm/rev)\", \"Depth of cut [µm]\", \"Fx\", \"Fy\", \"h (Average)\", \"T_Model\"]]\n",
        "X_train_piml, X_test_piml, _, _ = train_test_split(X_piml, y, test_size=0.2, random_state=42)\n",
        "\n",
        "rf_piml = RandomForestRegressor(random_state=42)\n",
        "rf_piml.fit(X_train_piml, y_train)\n",
        "y_pred_piml = rf_piml.predict(X_test_piml)\n",
        "\n",
        "\n",
        "r2_piml = r2_score(y_test, y_pred_piml)\n",
        "rmse_piml = mean_squared_error(y_test, y_pred_piml)\n",
        "mae_piml = mean_absolute_error(y_test, y_pred_piml)\n",
        "mape_piml = mean_absolute_percentage_error(y_test, y_pred_piml) * 100\n",
        "\n",
        "\n",
        "results = pd.DataFrame({\n",
        "    \"Model\": [\"Non-PIML\", \"PIML\"],\n",
        "    \"R²\": [r2_non, r2_piml],\n",
        "    \"RMSE\": [rmse_non, rmse_piml],\n",
        "    \"MAE\": [mae_non, mae_piml],\n",
        "    \"MAPE (%)\": [mape_non, mape_piml]\n",
        "})\n",
        "\n",
        "print(results)\n",
        "\n",
        "\n",
        "results_non = pd.DataFrame({\"True\": y_test.values, \"Predicted (Non-PIML)\": y_pred_non})\n",
        "results_piml = pd.DataFrame({\"True\": y_test.values, \"Predicted (PIML)\": y_pred_piml})\n",
        "\n",
        "# results_non.to_excel(\"RandomForest_Non_PIML_Output.xlsx\", index=False)\n",
        "# results_piml.to_excel(\"RandomForest_PIML_Output.xlsx\", index=False)"
      ]
    }
  ],
  "metadata": {
    "colab": {
      "provenance": []
    },
    "kernelspec": {
      "display_name": "Python 3",
      "name": "python3"
    },
    "language_info": {
      "name": "python"
    }
  },
  "nbformat": 4,
  "nbformat_minor": 0
}
